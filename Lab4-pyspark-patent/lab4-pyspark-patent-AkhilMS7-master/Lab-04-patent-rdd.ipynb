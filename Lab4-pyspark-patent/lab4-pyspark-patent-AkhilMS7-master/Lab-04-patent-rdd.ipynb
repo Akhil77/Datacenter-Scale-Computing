{
 "cells": [
  {
   "cell_type": "markdown",
   "metadata": {},
   "source": [
    "# CSCI 4253 / 5253 - Lab #4 - Patent Problem with Spark RDD - SOLUTION\n",
    "<div>\n",
    " <h2> CSCI 4283 / 5253 \n",
    "  <IMG SRC=\"https://www.colorado.edu/cs/profiles/express/themes/cuspirit/logo.png\" WIDTH=50 ALIGN=\"right\"/> </h2>\n",
    "</div>"
   ]
  },
  {
   "cell_type": "markdown",
   "metadata": {},
   "source": [
    "This [Spark cheatsheet](https://s3.amazonaws.com/assets.datacamp.com/blog_assets/PySpark_SQL_Cheat_Sheet_Python.pdf) is useful"
   ]
  },
  {
   "cell_type": "code",
   "execution_count": 1,
   "metadata": {},
   "outputs": [],
   "source": [
    "from pyspark import SparkContext, SparkConf\n",
    "import numpy as np\n",
    "import operator"
   ]
  },
  {
   "cell_type": "code",
   "execution_count": 2,
   "metadata": {},
   "outputs": [
    {
     "name": "stderr",
     "output_type": "stream",
     "text": [
      "Setting default log level to \"WARN\".\n",
      "To adjust logging level use sc.setLogLevel(newLevel). For SparkR, use setLogLevel(newLevel).\n"
     ]
    }
   ],
   "source": [
    "conf=SparkConf().setAppName(\"Lab4-rdd\").setMaster(\"local[*]\")\n",
    "sc = SparkContext(conf=conf)"
   ]
  },
  {
   "cell_type": "markdown",
   "metadata": {},
   "source": [
    "Using PySpark and RDD's on the https://coding.csel.io machines is slow -- most of the code is executed in Python and this is much less efficient than the java-based code using the PySpark dataframes. Be patient and trying using `.cache()` to cache the output of joins. You may want to start with a reduced set of data before running the full task. You can use the `sample()` method to extract just a sample of the data or use "
   ]
  },
  {
   "cell_type": "markdown",
   "metadata": {},
   "source": [
    "These two RDD's are called \"rawCitations\" and \"rawPatents\" because you probably want to process them futher (e.g. convert them to integer types, etc). \n",
    "\n",
    "The `textFile` function returns data in strings. This should work fine for this lab.\n",
    "\n",
    "Other methods you use might return data in type `Byte`. If you haven't used Python `Byte` types before, google it. You can convert a value of `x` type byte into e.g. a UTF8 string using `x.decode('uft-8')`. Alternatively, you can use the `open` method of the gzip library to read in all the lines as UTF-8 strings like this:\n",
    "```\n",
    "import gzip\n",
    "with gzip.open('cite75_99.txt.gz', 'rt',encoding='utf-8') as f:\n",
    "    rddCitations = sc.parallelize( f.readlines() )\n",
    "```\n",
    "This is less efficient than using `textFile` because `textFile` would use the underlying HDFS or other file system to read the file across all the worker nodes while the using `gzip.open()...readlines()` will read all the data in the frontend and then distribute it to all the worker nodes."
   ]
  },
  {
   "cell_type": "code",
   "execution_count": 3,
   "metadata": {},
   "outputs": [],
   "source": [
    "rddCitations = sc.textFile(\"cite75_99.txt.gz\")\n",
    "rddPatents = sc.textFile(\"apat63_99.txt.gz\")"
   ]
  },
  {
   "cell_type": "markdown",
   "metadata": {},
   "source": [
    "The data looks like the following."
   ]
  },
  {
   "cell_type": "code",
   "execution_count": 4,
   "metadata": {},
   "outputs": [
    {
     "name": "stderr",
     "output_type": "stream",
     "text": [
      "                                                                                \r"
     ]
    },
    {
     "data": {
      "text/plain": [
       "['\"CITING\",\"CITED\"',\n",
       " '3858241,956203',\n",
       " '3858241,1324234',\n",
       " '3858241,3398406',\n",
       " '3858241,3557384']"
      ]
     },
     "execution_count": 4,
     "metadata": {},
     "output_type": "execute_result"
    }
   ],
   "source": [
    "rddCitations.take(5)"
   ]
  },
  {
   "cell_type": "code",
   "execution_count": 5,
   "metadata": {},
   "outputs": [
    {
     "data": {
      "text/plain": [
       "['\"PATENT\",\"GYEAR\",\"GDATE\",\"APPYEAR\",\"COUNTRY\",\"POSTATE\",\"ASSIGNEE\",\"ASSCODE\",\"CLAIMS\",\"NCLASS\",\"CAT\",\"SUBCAT\",\"CMADE\",\"CRECEIVE\",\"RATIOCIT\",\"GENERAL\",\"ORIGINAL\",\"FWDAPLAG\",\"BCKGTLAG\",\"SELFCTUB\",\"SELFCTLB\",\"SECDUPBD\",\"SECDLWBD\"',\n",
       " '3070801,1963,1096,,\"BE\",\"\",,1,,269,6,69,,1,,0,,,,,,,',\n",
       " '3070802,1963,1096,,\"US\",\"TX\",,1,,2,6,63,,0,,,,,,,,,',\n",
       " '3070803,1963,1096,,\"US\",\"IL\",,1,,2,6,63,,9,,0.3704,,,,,,,',\n",
       " '3070804,1963,1096,,\"US\",\"OH\",,1,,2,6,63,,3,,0.6667,,,,,,,']"
      ]
     },
     "execution_count": 5,
     "metadata": {},
     "output_type": "execute_result"
    }
   ],
   "source": [
    "rddPatents.take(5)"
   ]
  },
  {
   "cell_type": "markdown",
   "metadata": {},
   "source": [
    "In other words, they are a single string with multiple CSV's. You will need to convert these to (K,V) pairs, probably convert the keys to `int` and so on. You'll need to `filter` out the header string as well since there's no easy way to extract all the lines except the first."
   ]
  },
  {
   "cell_type": "markdown",
   "metadata": {},
   "source": [
    "<b>Removing Headers from both citations and patents table</b>"
   ]
  },
  {
   "cell_type": "code",
   "execution_count": 6,
   "metadata": {},
   "outputs": [],
   "source": [
    "header = rddCitations.first()\n",
    "rddCitations = rddCitations.filter(lambda line: line != header)"
   ]
  },
  {
   "cell_type": "code",
   "execution_count": 7,
   "metadata": {},
   "outputs": [
    {
     "data": {
      "text/plain": [
       "['3858241,956203',\n",
       " '3858241,1324234',\n",
       " '3858241,3398406',\n",
       " '3858241,3557384',\n",
       " '3858241,3634889']"
      ]
     },
     "execution_count": 7,
     "metadata": {},
     "output_type": "execute_result"
    }
   ],
   "source": [
    "rddCitations.take(5)"
   ]
  },
  {
   "cell_type": "code",
   "execution_count": 8,
   "metadata": {},
   "outputs": [],
   "source": [
    "header1 = rddPatents.first()\n",
    "rddPatents = rddPatents.filter(lambda line: line != header1)"
   ]
  },
  {
   "cell_type": "code",
   "execution_count": 9,
   "metadata": {},
   "outputs": [
    {
     "data": {
      "text/plain": [
       "['3070801,1963,1096,,\"BE\",\"\",,1,,269,6,69,,1,,0,,,,,,,',\n",
       " '3070802,1963,1096,,\"US\",\"TX\",,1,,2,6,63,,0,,,,,,,,,',\n",
       " '3070803,1963,1096,,\"US\",\"IL\",,1,,2,6,63,,9,,0.3704,,,,,,,',\n",
       " '3070804,1963,1096,,\"US\",\"OH\",,1,,2,6,63,,3,,0.6667,,,,,,,',\n",
       " '3070805,1963,1096,,\"US\",\"CA\",,1,,2,6,63,,1,,0,,,,,,,']"
      ]
     },
     "execution_count": 9,
     "metadata": {},
     "output_type": "execute_result"
    }
   ],
   "source": [
    "rddPatents.take(5)"
   ]
  },
  {
   "cell_type": "markdown",
   "metadata": {},
   "source": [
    "<b>Extracting relevant info from both tables to join on CITING==PATENT</b>"
   ]
  },
  {
   "cell_type": "code",
   "execution_count": 10,
   "metadata": {},
   "outputs": [],
   "source": [
    "patents = rddPatents.map(lambda k: (int(k.split(',')[0]),','.join(k.split(',')[1:])))"
   ]
  },
  {
   "cell_type": "code",
   "execution_count": 11,
   "metadata": {},
   "outputs": [],
   "source": [
    "citations = rddCitations.map(lambda k: (int(k.split(',')[0]),int(k.split(',')[1])))"
   ]
  },
  {
   "cell_type": "code",
   "execution_count": 12,
   "metadata": {},
   "outputs": [
    {
     "name": "stderr",
     "output_type": "stream",
     "text": [
      "                                                                                \r"
     ]
    },
    {
     "data": {
      "text/plain": [
       "[(3858504,\n",
       "  (72573,\n",
       "   '1975,5485,1973,\"FR\",\"\",,1,11,100,5,59,6,2,0.5,0.5,0.4444,19,41.6667,,,,'))]"
      ]
     },
     "execution_count": 12,
     "metadata": {},
     "output_type": "execute_result"
    }
   ],
   "source": [
    "citedPatents = citations.join(patents).cache()\n",
    "citedPatents.take(1)"
   ]
  },
  {
   "cell_type": "markdown",
   "metadata": {},
   "source": [
    "<b>Arranging data into (cited, (citing, citingState))</b>"
   ]
  },
  {
   "cell_type": "code",
   "execution_count": 13,
   "metadata": {},
   "outputs": [
    {
     "data": {
      "text/plain": [
       "[(72573, (3858504, '\"\"'))]"
      ]
     },
     "execution_count": 13,
     "metadata": {},
     "output_type": "execute_result"
    }
   ],
   "source": [
    "citedPatents1 = citedPatents.map(lambda k: (k[1][0],(k[0],k[1][1].split(',')[4])))\n",
    "citedPatents1.take(1)"
   ]
  },
  {
   "cell_type": "markdown",
   "metadata": {},
   "source": [
    "<b>Joining citedPatent with patent on CITED==PATENT</b>"
   ]
  },
  {
   "cell_type": "code",
   "execution_count": 14,
   "metadata": {},
   "outputs": [
    {
     "name": "stderr",
     "output_type": "stream",
     "text": [
      "                                                                                \r"
     ]
    },
    {
     "data": {
      "text/plain": [
       "[(5135106,\n",
       "  ((5662216, '\"RI\"'),\n",
       "   '1992,11904,1988,\"US\",\"MA\",,1,40,206,6,68,10,8,1,0.2188,0,5.875,8.5,,,,')),\n",
       " (5135106,\n",
       "  ((5261534, '\"CT\"'),\n",
       "   '1992,11904,1988,\"US\",\"MA\",,1,40,206,6,68,10,8,1,0.2188,0,5.875,8.5,,,,')),\n",
       " (5135106,\n",
       "  ((5515968, '\"GA\"'),\n",
       "   '1992,11904,1988,\"US\",\"MA\",,1,40,206,6,68,10,8,1,0.2188,0,5.875,8.5,,,,')),\n",
       " (5135106,\n",
       "  ((5720386, '\"WA\"'),\n",
       "   '1992,11904,1988,\"US\",\"MA\",,1,40,206,6,68,10,8,1,0.2188,0,5.875,8.5,,,,')),\n",
       " (5135106,\n",
       "  ((5573120, '\"CA\"'),\n",
       "   '1992,11904,1988,\"US\",\"MA\",,1,40,206,6,68,10,8,1,0.2188,0,5.875,8.5,,,,')),\n",
       " (5135106,\n",
       "  ((5701997, '\"NJ\"'),\n",
       "   '1992,11904,1988,\"US\",\"MA\",,1,40,206,6,68,10,8,1,0.2188,0,5.875,8.5,,,,')),\n",
       " (5135106,\n",
       "  ((5344039, '\"GA\"'),\n",
       "   '1992,11904,1988,\"US\",\"MA\",,1,40,206,6,68,10,8,1,0.2188,0,5.875,8.5,,,,')),\n",
       " (5135106,\n",
       "  ((5253753, '\"CA\"'),\n",
       "   '1992,11904,1988,\"US\",\"MA\",,1,40,206,6,68,10,8,1,0.2188,0,5.875,8.5,,,,')),\n",
       " (5108526,\n",
       "  ((6000746, '\"\"'),\n",
       "   '1992,11806,1991,\"DE\",\"\",489515,3,20,156,1,19,13,30,0.8462,0.6356,0.7934,3,11.6154,0,0,0.3103,0.3')),\n",
       " (5108526,\n",
       "  ((5362428, '\"\"'),\n",
       "   '1992,11806,1991,\"DE\",\"\",489515,3,20,156,1,19,13,30,0.8462,0.6356,0.7934,3,11.6154,0,0,0.3103,0.3'))]"
      ]
     },
     "execution_count": 14,
     "metadata": {},
     "output_type": "execute_result"
    }
   ],
   "source": [
    "citedPatents2 = citedPatents1.join(patents).cache()\n",
    "citedPatents2.take(10)"
   ]
  },
  {
   "cell_type": "markdown",
   "metadata": {},
   "source": [
    "<b>Arranging data as (citing, citing state, cited, cited state) to enable filtering</b>"
   ]
  },
  {
   "cell_type": "code",
   "execution_count": 15,
   "metadata": {},
   "outputs": [
    {
     "data": {
      "text/plain": [
       "[(5662216, '\"RI\"', 5135106, '\"MA\"'),\n",
       " (5261534, '\"CT\"', 5135106, '\"MA\"'),\n",
       " (5515968, '\"GA\"', 5135106, '\"MA\"'),\n",
       " (5720386, '\"WA\"', 5135106, '\"MA\"'),\n",
       " (5573120, '\"CA\"', 5135106, '\"MA\"')]"
      ]
     },
     "execution_count": 15,
     "metadata": {},
     "output_type": "execute_result"
    }
   ],
   "source": [
    "arrangedData = citedPatents2.map(lambda k: (k[1][0][0],k[1][0][1],k[0],k[1][1].split(',')[4]))\n",
    "arrangedData.take(5)"
   ]
  },
  {
   "cell_type": "code",
   "execution_count": 16,
   "metadata": {},
   "outputs": [
    {
     "data": {
      "text/plain": [
       "[(5766704, '\"MA\"', 5274018, '\"MA\"'),\n",
       " (5939157, '\"MA\"', 5274018, '\"MA\"'),\n",
       " (5955159, '\"MA\"', 5274018, '\"MA\"'),\n",
       " (5985383, '\"MA\"', 5274018, '\"MA\"'),\n",
       " (5827459, '\"MA\"', 5274018, '\"MA\"'),\n",
       " (3864379, '\"NJ\"', 3465036, '\"NJ\"'),\n",
       " (4796222, '\"NY\"', 3685020, '\"NY\"'),\n",
       " (4484262, '\"NY\"', 3685020, '\"NY\"'),\n",
       " (4068304, '\"NY\"', 3685020, '\"NY\"'),\n",
       " (4636990, '\"NY\"', 3685020, '\"NY\"')]"
      ]
     },
     "execution_count": 16,
     "metadata": {},
     "output_type": "execute_result"
    }
   ],
   "source": [
    "filteredData = arrangedData.filter(lambda k: k[1]==k[3] and k[1]!='\"\"' and k[3]!='\"\"')\n",
    "filteredData.take(10)"
   ]
  },
  {
   "cell_type": "markdown",
   "metadata": {},
   "source": [
    "<b>Changing format to a tuple to enable grouping and sorting</b>"
   ]
  },
  {
   "cell_type": "code",
   "execution_count": 17,
   "metadata": {},
   "outputs": [
    {
     "data": {
      "text/plain": [
       "[(5766704, ('\"MA\"', 5274018, '\"MA\"')),\n",
       " (5939157, ('\"MA\"', 5274018, '\"MA\"')),\n",
       " (5955159, ('\"MA\"', 5274018, '\"MA\"')),\n",
       " (5985383, ('\"MA\"', 5274018, '\"MA\"')),\n",
       " (5827459, ('\"MA\"', 5274018, '\"MA\"')),\n",
       " (3864379, ('\"NJ\"', 3465036, '\"NJ\"')),\n",
       " (4796222, ('\"NY\"', 3685020, '\"NY\"')),\n",
       " (4484262, ('\"NY\"', 3685020, '\"NY\"')),\n",
       " (4068304, ('\"NY\"', 3685020, '\"NY\"')),\n",
       " (4636990, ('\"NY\"', 3685020, '\"NY\"'))]"
      ]
     },
     "execution_count": 17,
     "metadata": {},
     "output_type": "execute_result"
    }
   ],
   "source": [
    "filteredData1 = filteredData.map(lambda k: (k[0],(k[1],k[2],k[3])))\n",
    "filteredData1.take(10)"
   ]
  },
  {
   "cell_type": "code",
   "execution_count": 18,
   "metadata": {},
   "outputs": [
    {
     "name": "stderr",
     "output_type": "stream",
     "text": [
      "                                                                                \r"
     ]
    }
   ],
   "source": [
    "sortedData = filteredData1.groupByKey().mapValues(len).sortBy(lambda k: k[1], ascending=False)"
   ]
  },
  {
   "cell_type": "code",
   "execution_count": 19,
   "metadata": {},
   "outputs": [
    {
     "name": "stderr",
     "output_type": "stream",
     "text": [
      "                                                                                \r"
     ]
    },
    {
     "data": {
      "text/plain": [
       "[(5959466, 125),\n",
       " (5983822, 103),\n",
       " (6008204, 100),\n",
       " (5952345, 98),\n",
       " (5958954, 96),\n",
       " (5998655, 96),\n",
       " (5936426, 94),\n",
       " (5925042, 90),\n",
       " (5913855, 90),\n",
       " (5951547, 90)]"
      ]
     },
     "execution_count": 19,
     "metadata": {},
     "output_type": "execute_result"
    }
   ],
   "source": [
    "sortedData.take(10)"
   ]
  },
  {
   "cell_type": "markdown",
   "metadata": {},
   "source": [
    "<b>Joining sorted data with patent table to get final output</b>"
   ]
  },
  {
   "cell_type": "code",
   "execution_count": 20,
   "metadata": {},
   "outputs": [
    {
     "name": "stderr",
     "output_type": "stream",
     "text": [
      "                                                                                \r"
     ]
    },
    {
     "data": {
      "text/plain": [
       "[(3070828, ('1963,1096,,\"US\",\"CT\",,2,,16,5,59,,4,,0.625,,,,,,,', None)),\n",
       " (3070996, ('1963,1096,,\"US\",\"MD\",,6,,73,4,43,,2,,0,,,,,,,', None)),\n",
       " (3071368, ('1963,1096,,\"US\",\"NY\",,1,,269,6,69,,7,,0.7755,,,,,,,', None)),\n",
       " (3071816, ('1963,1103,,\"US\",\"OH\",,2,,264,5,51,,4,,0.625,,,,,,,', None)),\n",
       " (3072188, ('1963,1103,,\"US\",\"PA\",,2,,166,6,64,,1,,0,,,,,,,', None)),\n",
       " (3072356, ('1963,1103,,\"US\",\"MN\",,1,,242,5,51,,4,,0.375,,,,,,,', None)),\n",
       " (3072896, ('1963,1103,,\"US\",\"IL\",,2,,340,2,21,,1,,0,,,,,,,', None)),\n",
       " (3073064, ('1963,1110,,\"US\",\"CA\",,2,,47,6,61,,0,,,,,,,,,', None)),\n",
       " (3073716, ('1963,1110,,\"US\",\"NY\",,2,,427,1,12,,2,,0,,,,,,,', None)),\n",
       " (3073940, ('1963,1110,,\"CH\",\"\",,1,,219,4,49,,3,,0,,,,,,,', None))]"
      ]
     },
     "execution_count": 20,
     "metadata": {},
     "output_type": "execute_result"
    }
   ],
   "source": [
    "output = patents.leftOuterJoin(sortedData).cache()\n",
    "output.take(10)"
   ]
  },
  {
   "cell_type": "code",
   "execution_count": 21,
   "metadata": {},
   "outputs": [
    {
     "name": "stderr",
     "output_type": "stream",
     "text": [
      "                                                                                \r"
     ]
    },
    {
     "data": {
      "text/plain": [
       "2923922"
      ]
     },
     "execution_count": 21,
     "metadata": {},
     "output_type": "execute_result"
    }
   ],
   "source": [
    "output.count()"
   ]
  },
  {
   "cell_type": "markdown",
   "metadata": {},
   "source": [
    "<b>Removing none values to allow sorting by count</b>"
   ]
  },
  {
   "cell_type": "code",
   "execution_count": 22,
   "metadata": {},
   "outputs": [],
   "source": [
    "def removeNone(item):\n",
    "    if(item[1][1] == None):\n",
    "        return (item[0],(item[1][0],0))\n",
    "    else:\n",
    "        return item\n",
    "output = output.map(removeNone)"
   ]
  },
  {
   "cell_type": "code",
   "execution_count": 23,
   "metadata": {},
   "outputs": [
    {
     "data": {
      "text/plain": [
       "[(3070828, ('1963,1096,,\"US\",\"CT\",,2,,16,5,59,,4,,0.625,,,,,,,', 0)),\n",
       " (3070996, ('1963,1096,,\"US\",\"MD\",,6,,73,4,43,,2,,0,,,,,,,', 0)),\n",
       " (3071368, ('1963,1096,,\"US\",\"NY\",,1,,269,6,69,,7,,0.7755,,,,,,,', 0)),\n",
       " (3071816, ('1963,1103,,\"US\",\"OH\",,2,,264,5,51,,4,,0.625,,,,,,,', 0)),\n",
       " (3072188, ('1963,1103,,\"US\",\"PA\",,2,,166,6,64,,1,,0,,,,,,,', 0)),\n",
       " (3072356, ('1963,1103,,\"US\",\"MN\",,1,,242,5,51,,4,,0.375,,,,,,,', 0)),\n",
       " (3072896, ('1963,1103,,\"US\",\"IL\",,2,,340,2,21,,1,,0,,,,,,,', 0)),\n",
       " (3073064, ('1963,1110,,\"US\",\"CA\",,2,,47,6,61,,0,,,,,,,,,', 0)),\n",
       " (3073716, ('1963,1110,,\"US\",\"NY\",,2,,427,1,12,,2,,0,,,,,,,', 0)),\n",
       " (3073940, ('1963,1110,,\"CH\",\"\",,1,,219,4,49,,3,,0,,,,,,,', 0))]"
      ]
     },
     "execution_count": 23,
     "metadata": {},
     "output_type": "execute_result"
    }
   ],
   "source": [
    "output.take(10)"
   ]
  },
  {
   "cell_type": "code",
   "execution_count": 24,
   "metadata": {},
   "outputs": [
    {
     "name": "stderr",
     "output_type": "stream",
     "text": [
      "                                                                                \r"
     ]
    },
    {
     "data": {
      "text/plain": [
       "[(5959466,\n",
       "  ('1999,14515,1997,\"US\",\"CA\",5310,2,,326,4,46,159,0,1,,0.6186,,4.8868,0.0455,0.044,,',\n",
       "   125)),\n",
       " (5983822,\n",
       "  ('1999,14564,1998,\"US\",\"TX\",569900,2,,114,5,55,200,0,0.995,,0.7201,,12.45,0,0,,',\n",
       "   103)),\n",
       " (6008204,\n",
       "  ('1999,14606,1998,\"US\",\"CA\",749584,2,,514,3,31,121,0,1,,0.7415,,5,0.0085,0.0083,,',\n",
       "   100)),\n",
       " (5952345,\n",
       "  ('1999,14501,1997,\"US\",\"CA\",749584,2,,514,3,31,118,0,1,,0.7442,,5.1102,0,0,,',\n",
       "   98)),\n",
       " (5958954,\n",
       "  ('1999,14515,1997,\"US\",\"CA\",749584,2,,514,3,31,116,0,1,,0.7397,,5.181,0,0,,',\n",
       "   96)),\n",
       " (5998655,\n",
       "  ('1999,14585,1998,\"US\",\"CA\",,1,,560,1,14,114,0,1,,0.7387,,5.1667,,,,', 96)),\n",
       " (5936426,\n",
       "  ('1999,14466,1997,\"US\",\"CA\",5310,2,,326,4,46,178,0,1,,0.58,,11.2303,0.0765,0.073,,',\n",
       "   94)),\n",
       " (5739256,\n",
       "  ('1998,13983,1995,\"US\",\"CA\",70060,2,15,528,1,15,453,0,1,,0.8232,,15.1104,0.1124,0.1082,,',\n",
       "   90)),\n",
       " (5978329,\n",
       "  ('1999,14550,1995,\"US\",\"CA\",148925,2,,369,2,24,145,0,1,,0.5449,,12.9241,0.4196,0.4138,,',\n",
       "   90)),\n",
       " (5980517,\n",
       "  ('1999,14557,1998,\"US\",\"CA\",733846,2,,606,3,32,241,0,1,,0.7394,,8.3776,0,0,,',\n",
       "   90))]"
      ]
     },
     "execution_count": 24,
     "metadata": {},
     "output_type": "execute_result"
    }
   ],
   "source": [
    "finalOutput = output.sortBy(lambda k: k[1][1], ascending=False)\n",
    "finalOutput.take(10)"
   ]
  }
 ],
 "metadata": {
  "kernelspec": {
   "display_name": "Python 3 (ipykernel)",
   "language": "python",
   "name": "python3"
  },
  "language_info": {
   "codemirror_mode": {
    "name": "ipython",
    "version": 3
   },
   "file_extension": ".py",
   "mimetype": "text/x-python",
   "name": "python",
   "nbconvert_exporter": "python",
   "pygments_lexer": "ipython3",
   "version": "3.9.6"
  }
 },
 "nbformat": 4,
 "nbformat_minor": 4
}
